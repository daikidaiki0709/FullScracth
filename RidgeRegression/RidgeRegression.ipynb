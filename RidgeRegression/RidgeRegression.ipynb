{
 "cells": [
  {
   "cell_type": "markdown",
   "id": "a5044217-c738-4b11-b73a-cde9b06d61fb",
   "metadata": {},
   "source": [
    "# Ridge回帰 (フルスクラッチ)"
   ]
  },
  {
   "cell_type": "code",
   "execution_count": 49,
   "id": "6dbdb6ae-2602-42f6-bfaf-d7ff640b8387",
   "metadata": {},
   "outputs": [
    {
     "name": "stdout",
     "output_type": "stream",
     "text": [
      "Intercept -0.021891300972926686\n",
      "Coefficients [0.003204362029969321, -2.9554079080547336e-05, -3.4638190092205895e-05, 0.24884744251854182, -0.0016744286686983662, 2.4333787728057993e-05]\n"
     ]
    }
   ],
   "source": [
    "import numpy as np\n",
    "\n",
    "# データの準備\n",
    "X_fea0 = np.array([1 for i in range(200)]).reshape(-1,1)\n",
    "X_fea1 = np.array([1*i*np.random.normal(1,0.1) for i in range(200)]).reshape(-1,1)\n",
    "X_fea2 = np.array([2*i*np.random.normal(0,5) for i in range(200)]).reshape(-1,1)\n",
    "X_fea3 = np.array([3*i*np.random.normal(10,1) for i in range(200)]).reshape(-1,1)\n",
    "X_fea4 = np.array([4*i*np.random.normal(2,0.01) for i in range(200)]).reshape(-1,1)\n",
    "X_fea5 = np.array([5*i*np.random.normal(0,0.1) for i in range(200)]).reshape(-1,1)\n",
    "X_fea6 = np.array([6*i*np.random.normal(50,5) for i in range(200)]).reshape(-1,1)\n",
    "\n",
    "# sklearn用と2つに分ける (切片を入れるか否か)\n",
    "X = np.concatenate([X_fea0,X_fea1,X_fea2,X_fea3,X_fea4,X_fea5,X_fea6],axis=1)\n",
    "X_sklearn = np.concatenate([X_fea1,X_fea2,X_fea3,X_fea4,X_fea5,X_fea6],axis=1)\n",
    "\n",
    "y = np.array([2*(i) for i in range(200)])\n",
    "\n",
    "# 正則化項の準備\n",
    "penalty_i = 10\n",
    "penalty = penalty_i * np.eye(X.shape[1])\n",
    "\n",
    "# 重みを算出\n",
    "# 導出過程はGoodnoteにメモ\n",
    "omega = np.linalg.inv((X.T@X + penalty)) @ X.T @ y\n",
    "\n",
    "print('Intercept',omega[0])\n",
    "print('Coefficients',omega[1:].tolist())"
   ]
  },
  {
   "cell_type": "markdown",
   "id": "0927b688-b9e0-4312-b761-7e893f36e689",
   "metadata": {},
   "source": [
    "# Ridge回帰 (Scikit-Learn)"
   ]
  },
  {
   "cell_type": "code",
   "execution_count": 50,
   "id": "a2ad4c5e-84d9-4a59-8db8-cd978ba4d1d6",
   "metadata": {},
   "outputs": [
    {
     "name": "stdout",
     "output_type": "stream",
     "text": [
      "Intercept -0.026297766309369308\n",
      "Coefficients [0.003205691491709968, -2.9433458899765373e-05, -3.45507793097901e-05, 0.24885074375557384, -0.0016709141393309863, 2.434458057754947e-05]\n"
     ]
    }
   ],
   "source": [
    "from sklearn.linear_model import Ridge\n",
    "\n",
    "ridge = Ridge(alpha=10)\n",
    "model = ridge.fit(X_sklearn,y)\n",
    "print('Intercept',model.intercept_)\n",
    "print('Coefficients',model.coef_.tolist())"
   ]
  },
  {
   "cell_type": "code",
   "execution_count": null,
   "id": "14cfa79d-7229-4462-be25-a51bebff0478",
   "metadata": {},
   "outputs": [],
   "source": []
  }
 ],
 "metadata": {
  "kernelspec": {
   "display_name": "Python 3",
   "language": "python",
   "name": "python3"
  },
  "language_info": {
   "codemirror_mode": {
    "name": "ipython",
    "version": 3
   },
   "file_extension": ".py",
   "mimetype": "text/x-python",
   "name": "python",
   "nbconvert_exporter": "python",
   "pygments_lexer": "ipython3",
   "version": "3.7.10"
  }
 },
 "nbformat": 4,
 "nbformat_minor": 5
}
