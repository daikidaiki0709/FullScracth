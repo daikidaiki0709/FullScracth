{
 "cells": [
  {
   "cell_type": "markdown",
   "id": "36d8b484",
   "metadata": {},
   "source": [
    "## ニュートン法"
   ]
  },
  {
   "cell_type": "code",
   "execution_count": 2,
   "id": "ba3ee4f0",
   "metadata": {},
   "outputs": [],
   "source": [
    "import numpy as np\n",
    "import matplotlib.pyplot as plt"
   ]
  },
  {
   "cell_type": "code",
   "execution_count": 5,
   "id": "4f1a698e",
   "metadata": {},
   "outputs": [],
   "source": [
    "#Newton法（方程式の関数項、探索の開始点、微小量、誤差範囲、最大反復回数）\n",
    "def newton(func_f, x0, eps=1e-10, error=1e-10, max_loop=100):\n",
    "    '''\n",
    "    f(x) = x + (x+2)*2とする。\n",
    "    \n",
    "    ニュートン法を用いて、f(x)=0となるxを求める\n",
    "    \n",
    "    ニュートン法\n",
    "    １. 初期値(x1)をあたえる\n",
    "    2. x1の微分係数を求める\n",
    "    3. x2を求める(x2 = x1 - f(x1)/f'(x1))\n",
    "    4. |x2 - x1|が微小量より小さいかの判別(if文)\n",
    "    5. 微小より大きい場合は、繰り返す\n",
    "    6. 微小量以下になった場合は終了で、xを返す\n",
    "    '''\n",
    "\n",
    "    #ずっと繰り返す\n",
    "    while(True):\n",
    "        \n",
    "        #微分係数を取得（中心差分）\n",
    "        func_df = (func_f(x0 +eps) -func_f(x0 -eps))/(2*eps)\n",
    "        \n",
    "        #補足条件（傾きが0に近ければ止める）\n",
    "        if(abs(func_df) <= eps):\n",
    "            print(\"error: abs(func_df) is too small (<=\", eps, \").\")\n",
    "            quit()\n",
    "\n",
    "        #次の解を計算\n",
    "        x1 = x0 -func_f(x0)/func_df\n",
    "\n",
    "        #誤差範囲が一定値以下ならば終了\n",
    "        if(abs(x1-x0)<=error):\n",
    "            break\n",
    "\n",
    "        #解を更新\n",
    "        x0 = x1\n",
    "        \n",
    "    return x0\n",
    "        "
   ]
  },
  {
   "cell_type": "code",
   "execution_count": 6,
   "id": "27bfe8a9",
   "metadata": {},
   "outputs": [
    {
     "name": "stdout",
     "output_type": "stream",
     "text": [
      "x_opt： -2.511530184554476\n",
      "-7.28583859910259e-16\n"
     ]
    }
   ],
   "source": [
    "def func_f(x):\n",
    "    return np.exp(x) + 10 + 4*x + (x+2)**5\n",
    "\n",
    "x_opt = newton(func_f,x0=-5)\n",
    "\n",
    "print('x_opt：',x_opt)\n",
    "\n",
    "print(func_f(x_opt))"
   ]
  },
  {
   "cell_type": "code",
   "execution_count": null,
   "id": "45f2692e",
   "metadata": {},
   "outputs": [],
   "source": []
  }
 ],
 "metadata": {
  "kernelspec": {
   "display_name": "Python 3 (ipykernel)",
   "language": "python",
   "name": "python3"
  },
  "language_info": {
   "codemirror_mode": {
    "name": "ipython",
    "version": 3
   },
   "file_extension": ".py",
   "mimetype": "text/x-python",
   "name": "python",
   "nbconvert_exporter": "python",
   "pygments_lexer": "ipython3",
   "version": "3.8.12"
  }
 },
 "nbformat": 4,
 "nbformat_minor": 5
}
