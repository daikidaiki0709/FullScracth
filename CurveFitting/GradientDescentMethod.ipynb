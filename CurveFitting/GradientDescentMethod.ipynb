{
 "cells": [
  {
   "cell_type": "markdown",
   "id": "1c5841ba",
   "metadata": {},
   "source": [
    "## 勾配降下法によるcurvefittingの係数決定"
   ]
  },
  {
   "cell_type": "code",
   "execution_count": 1,
   "id": "a4505cdc",
   "metadata": {},
   "outputs": [],
   "source": [
    "import numpy as np\n",
    "import matplotlib.pyplot as plt\n",
    "%matplotlib inline"
   ]
  },
  {
   "cell_type": "code",
   "execution_count": 2,
   "id": "a828fa2f",
   "metadata": {},
   "outputs": [],
   "source": [
    "def SGD(eps=1e-10, learning_rate = 1e-3,max_loop=1000, itr='plot', fig='plot'):\n",
    "    '''\n",
    "    f(x) = x + a*(x+2)*2 + b*(x+3)**3とする。\n",
    "    \n",
    "   勾配降下法で最適パラメータを算出\n",
    "   勾配降下法：損失関数を最小化するパラメータを推定すること\n",
    "   \n",
    "   step1 パラメータの初期値を設定\n",
    "   step2　パラメータ初期値付近で損失関数を偏微分する\n",
    "   step3　微分値からパラメータを更新する\n",
    "   step4　更新前後のパラメータの差分が微小量の場合は、学習を終える\n",
    "   step5　差分が大きい場合は、繰り返しパラメータを更新する\n",
    "   step6　学習を指定回数終えても、収束しない場合は最終結果を返す\n",
    "    '''\n",
    "    # 学習データ\n",
    "    x = np.linspace(1,5,100)\n",
    "    \n",
    "    # 最適パラメータを得たい関数\n",
    "    def func_f(w):\n",
    "        return x + w[0]*(x-3)**3 + w[1]*np.log(x)\n",
    "    \n",
    "    def Loss(w):\n",
    "        return np.sum((y_list - func_f(w))**2)\n",
    "    \n",
    "    def dLoss_dw(w):\n",
    "        w_a = [(w[0]+eps),w[1]]\n",
    "        w_b = [w[0],(w[1]+eps)]\n",
    "        \n",
    "        dLoss_da = (Loss(w_a) - Loss(w))/eps\n",
    "        dLoss_db = (Loss(w_b) - Loss(w))/eps\n",
    "        \n",
    "        return np.array([dLoss_da, dLoss_db])\n",
    "    \n",
    "    # 正解データの用意\n",
    "    a_correct = 18\n",
    "    b_correct = -50\n",
    "    w_correct = [a_correct, b_correct]\n",
    "    y_list = np.array(func_f(w_correct))\n",
    "    \n",
    "    a0 = 1\n",
    "    b0 = 2\n",
    "    w0 = np.array([a0, b0])\n",
    "    \n",
    "    Loss_list = []\n",
    "    for itr in range(max_loop):\n",
    "        w1 = w0 - learning_rate*dLoss_dw(w0)\n",
    "        Loss_list.append(Loss(w1))\n",
    "        \n",
    "        w0 = w1\n",
    "        \n",
    "    # 予測値を算出\n",
    "    y_pred = func_f(w0)\n",
    "    \n",
    "    \n",
    "    fig= plt.figure(figsize=(15, 5))\n",
    "    ax1 = fig.add_subplot(1, 2, 1)\n",
    "    ax2 = fig.add_subplot(1, 2, 2)\n",
    "    \n",
    "    ax1.scatter( [i for i in range(max_loop)], Loss_list,s=10)\n",
    "    ax1.set_xlabel('iteration')\n",
    "    ax1.set_ylabel('Loss')\n",
    "        \n",
    "    ax2.scatter(y_list, y_pred)\n",
    "    ax2.set_xlabel('Actual')\n",
    "    ax2.set_ylabel('Estimated')\n",
    "    \n",
    "    return Loss_list, w0 , y_pred, y_list\n",
    "        "
   ]
  },
  {
   "cell_type": "code",
   "execution_count": 3,
   "id": "a2c5fa91",
   "metadata": {},
   "outputs": [
    {
     "data": {
      "image/png": "[encoded data removed]",
      "text/plain": [
       "<Figure size 1080x360 with 2 Axes>"
      ]
     },
     "metadata": {
      "needs_background": "light"
     },
     "output_type": "display_data"
    }
   ],
   "source": [
    "result = SGD()"
   ]
  },
  {
   "cell_type": "code",
   "execution_count": 4,
   "id": "8eacf401",
   "metadata": {},
   "outputs": [
    {
     "data": {
      "text/plain": [
       "array([ 18., -50.])"
      ]
     },
     "execution_count": 4,
     "metadata": {},
     "output_type": "execute_result"
    }
   ],
   "source": [
    "result[1]"
   ]
  },
  {
   "cell_type": "code",
   "execution_count": 5,
   "id": "7c9875aa",
   "metadata": {},
   "outputs": [
    {
     "data": {
      "text/html": [
       "<div>\n",
       "<style scoped>\n",
       "    .dataframe tbody tr th:only-of-type {\n",
       "        vertical-align: middle;\n",
       "    }\n",
       "\n",
       "    .dataframe tbody tr th {\n",
       "        vertical-align: top;\n",
       "    }\n",
       "\n",
       "    .dataframe thead th {\n",
       "        text-align: right;\n",
       "    }\n",
       "</style>\n",
       "<table border=\"1\" class=\"dataframe\">\n",
       "  <thead>\n",
       "    <tr style=\"text-align: right;\">\n",
       "      <th></th>\n",
       "      <th>0</th>\n",
       "      <th>1</th>\n",
       "    </tr>\n",
       "  </thead>\n",
       "  <tbody>\n",
       "    <tr>\n",
       "      <th>0</th>\n",
       "      <td>-143.000000</td>\n",
       "      <td>-143.000000</td>\n",
       "    </tr>\n",
       "    <tr>\n",
       "      <th>1</th>\n",
       "      <td>-136.387901</td>\n",
       "      <td>-136.387901</td>\n",
       "    </tr>\n",
       "    <tr>\n",
       "      <th>2</th>\n",
       "      <td>-130.045832</td>\n",
       "      <td>-130.045832</td>\n",
       "    </tr>\n",
       "    <tr>\n",
       "      <th>3</th>\n",
       "      <td>-123.972208</td>\n",
       "      <td>-123.972208</td>\n",
       "    </tr>\n",
       "    <tr>\n",
       "      <th>4</th>\n",
       "      <td>-118.164859</td>\n",
       "      <td>-118.164859</td>\n",
       "    </tr>\n",
       "    <tr>\n",
       "      <th>...</th>\n",
       "      <td>...</td>\n",
       "      <td>...</td>\n",
       "    </tr>\n",
       "    <tr>\n",
       "      <th>95</th>\n",
       "      <td>37.845207</td>\n",
       "      <td>37.845207</td>\n",
       "    </tr>\n",
       "    <tr>\n",
       "      <th>96</th>\n",
       "      <td>45.006850</td>\n",
       "      <td>45.006850</td>\n",
       "    </tr>\n",
       "    <tr>\n",
       "      <th>97</th>\n",
       "      <td>52.503169</td>\n",
       "      <td>52.503169</td>\n",
       "    </tr>\n",
       "    <tr>\n",
       "      <th>98</th>\n",
       "      <td>60.341231</td>\n",
       "      <td>60.341231</td>\n",
       "    </tr>\n",
       "    <tr>\n",
       "      <th>99</th>\n",
       "      <td>68.528104</td>\n",
       "      <td>68.528104</td>\n",
       "    </tr>\n",
       "  </tbody>\n",
       "</table>\n",
       "<p>100 rows × 2 columns</p>\n",
       "</div>"
      ],
      "text/plain": [
       "             0           1\n",
       "0  -143.000000 -143.000000\n",
       "1  -136.387901 -136.387901\n",
       "2  -130.045832 -130.045832\n",
       "3  -123.972208 -123.972208\n",
       "4  -118.164859 -118.164859\n",
       "..         ...         ...\n",
       "95   37.845207   37.845207\n",
       "96   45.006850   45.006850\n",
       "97   52.503169   52.503169\n",
       "98   60.341231   60.341231\n",
       "99   68.528104   68.528104\n",
       "\n",
       "[100 rows x 2 columns]"
      ]
     },
     "execution_count": 5,
     "metadata": {},
     "output_type": "execute_result"
    }
   ],
   "source": [
    "import pandas as pd\n",
    "pd.DataFrame([result[2],result[3]]).T"
   ]
  },
  {
   "cell_type": "code",
   "execution_count": null,
   "id": "c7ac6cb4",
   "metadata": {},
   "outputs": [],
   "source": []
  }
 ],
 "metadata": {
  "kernelspec": {
   "display_name": "Python 3 (ipykernel)",
   "language": "python",
   "name": "python3"
  },
  "language_info": {
   "codemirror_mode": {
    "name": "ipython",
    "version": 3
   },
   "file_extension": ".py",
   "mimetype": "text/x-python",
   "name": "python",
   "nbconvert_exporter": "python",
   "pygments_lexer": "ipython3",
   "version": "3.8.12"
  }
 },
 "nbformat": 4,
 "nbformat_minor": 5
}
