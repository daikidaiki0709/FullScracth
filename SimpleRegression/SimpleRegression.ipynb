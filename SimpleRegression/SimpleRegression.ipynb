{
 "cells": [
  {
   "cell_type": "code",
   "execution_count": 17,
   "id": "4e910625-6835-4ae0-803c-ce362391d308",
   "metadata": {},
   "outputs": [],
   "source": [
    "import numpy as np\n",
    "import matplotlib.pyplot as plt"
   ]
  },
  {
   "cell_type": "markdown",
   "id": "983308b2-d51b-4c3b-972b-3dfaa938318d",
   "metadata": {},
   "source": [
    "### 単回帰\n",
    "\n",
    "$$\n",
    "min \\sum(y_i - \\beta_1x - \\beta_0) を満たす$\\beta_1, \\beta_0$を求める\n",
    "$$\n",
    "\n",
    "\n",
    "$$\n",
    "\\begin{equation}\n",
    "\\beta_1 = \\frac{\\sum\\limits_{i=0}^{n}(x_iy_i) - n\\bar{x}\\bar{y}}{\\sum\\limits_{i=0}^{n} x_i^{2} - n\\bar{x}^{2}}\\tag{1}\n",
    "\\end{equation}\n",
    "$$\n",
    "\n",
    "$$\n",
    "\\beta_0 = \\bar{y} - \\beta_1\\bar{x}\\tag{2}\n",
    "$$\n",
    "\n",
    "※導出過程はiPadに記載"
   ]
  },
  {
   "cell_type": "markdown",
   "id": "dd62cf7c-5d39-494d-a7ec-5099f235e43b",
   "metadata": {},
   "source": [
    "# データの準備"
   ]
  },
  {
   "cell_type": "code",
   "execution_count": 88,
   "id": "d6ebc191-8209-411d-bced-c734694969b1",
   "metadata": {},
   "outputs": [],
   "source": [
    "X = np.array([i*np.random.normal(1,0.1) for i in range(200)])\n",
    "y = np.array([2*(i) for i in range(200)])"
   ]
  },
  {
   "cell_type": "markdown",
   "id": "ee51b5de-16bc-4bc8-a9d1-0da039ddc91f",
   "metadata": {},
   "source": [
    "# 解析解 (OLS)"
   ]
  },
  {
   "cell_type": "code",
   "execution_count": 85,
   "id": "20ddb7a0-1cea-45de-a4bc-c896be28cc80",
   "metadata": {
    "tags": []
   },
   "outputs": [
    {
     "name": "stdout",
     "output_type": "stream",
     "text": [
      "解析解：Beta_1 : 1.90165\n",
      "解析解：Beta_0 : 9.28896\n"
     ]
    }
   ],
   "source": [
    "beta_1 = (sum(X*y) - len(y)*np.mean(X)*np.mean(y)) / (sum(X**2) - len(y)*np.mean(X)**2)\n",
    "\n",
    "beta_0 = np.mean(y) - beta_1*np.mean(X)\n",
    "\n",
    "print(f'解析解：Beta_1 : {beta_1:.5f}')\n",
    "print(f'解析解：Beta_0 : {beta_0:.5f}')"
   ]
  },
  {
   "cell_type": "markdown",
   "id": "97d12ea0-c18c-4da6-bcca-543dfb86d6af",
   "metadata": {},
   "source": [
    "# sklearn"
   ]
  },
  {
   "cell_type": "code",
   "execution_count": 86,
   "id": "25baea72-7278-4f91-9c78-ff1677dd7f7e",
   "metadata": {},
   "outputs": [
    {
     "name": "stdout",
     "output_type": "stream",
     "text": [
      "数値解：Beta_1 : 1.90165\n",
      "数値解：Beta_0 : 9.28896\n"
     ]
    }
   ],
   "source": [
    "from sklearn.linear_model import LinearRegression\n",
    "\n",
    "model = LinearRegression()\n",
    "\n",
    "result = model.fit(X.reshape(-1,1),y.reshape(-1,1))\n",
    "\n",
    "print(f'数値解：Beta_1 : {result.coef_[0][0]:.5f}')\n",
    "print(f'数値解：Beta_0 : {result.intercept_[0]:.5f}')"
   ]
  },
  {
   "cell_type": "code",
   "execution_count": 87,
   "id": "82ecc832-0a72-4a5c-8bae-a2c7c419fcbf",
   "metadata": {},
   "outputs": [
    {
     "data": {
      "text/plain": [
       "[<matplotlib.lines.Line2D at 0x20213b14c48>]"
      ]
     },
     "execution_count": 87,
     "metadata": {},
     "output_type": "execute_result"
    },
    {
     "data": {
      "image/png": "[encoded data removed]",
      "text/plain": [
       "<Figure size 432x288 with 1 Axes>"
      ]
     },
     "metadata": {
      "needs_background": "light"
     },
     "output_type": "display_data"
    }
   ],
   "source": [
    "\n",
    "# 解析解の当てはまりを可視化\n",
    "\n",
    "plt.scatter(X,y,c='k')\n",
    "\n",
    "fitting_eq = beta_1*X + beta_0\n",
    "plt.plot(X, fitting_eq, c='r')"
   ]
  }
 ],
 "metadata": {
  "kernelspec": {
   "display_name": "Python 3",
   "language": "python",
   "name": "python3"
  },
  "language_info": {
   "codemirror_mode": {
    "name": "ipython",
    "version": 3
   },
   "file_extension": ".py",
   "mimetype": "text/x-python",
   "name": "python",
   "nbconvert_exporter": "python",
   "pygments_lexer": "ipython3",
   "version": "3.7.10"
  }
 },
 "nbformat": 4,
 "nbformat_minor": 5
}
