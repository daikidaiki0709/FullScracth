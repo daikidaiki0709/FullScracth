{
 "cells": [
  {
   "cell_type": "code",
   "execution_count": 1,
   "id": "bd30997d-7859-44b6-9a3a-ec49da777328",
   "metadata": {},
   "outputs": [],
   "source": [
    "import numpy as np\n",
    "import matplotlib.pyplot as plt"
   ]
  },
  {
   "cell_type": "markdown",
   "id": "a6d1fd0c-4c12-4297-997e-f34bf6afd038",
   "metadata": {},
   "source": [
    "### 線形重回帰\n",
    "\n",
    "$$\n",
    "min \\sum(\\textbf{y} - \\boldsymbol{\\omega x})^{2}\\\\\n",
    "を満たす\\omegaを求める\n",
    "$$\n",
    "\n",
    "\n",
    "$$\n",
    "\\boldsymbol{\\omega} = (X^{T}X)^{-1}X^{T}y\n",
    "$$\n",
    "\n",
    "※導出過程はiPadに記載\n"
   ]
  },
  {
   "cell_type": "markdown",
   "id": "58c7672d-a2f4-49f7-8e78-ebb7e70981be",
   "metadata": {},
   "source": [
    "# データの準備"
   ]
  },
  {
   "cell_type": "code",
   "execution_count": 2,
   "id": "e021a3cd-ebf2-44aa-a54e-718e03b93d31",
   "metadata": {},
   "outputs": [],
   "source": [
    "X_fea0 = np.array([1 for i in range(200)]).reshape(-1,1)\n",
    "X_fea1 = np.array([1*i*np.random.normal(1,0.1) for i in range(200)]).reshape(-1,1)\n",
    "X_fea2 = np.array([2*i*np.random.normal(0,5) for i in range(200)]).reshape(-1,1)\n",
    "X_fea3 = np.array([3*i*np.random.normal(10,1) for i in range(200)]).reshape(-1,1)\n",
    "X_fea4 = np.array([4*i*np.random.normal(2,0.01) for i in range(200)]).reshape(-1,1)\n",
    "X_fea5 = np.array([5*i*np.random.normal(0,0.1) for i in range(200)]).reshape(-1,1)\n",
    "X_fea6 = np.array([6*i*np.random.normal(50,5) for i in range(200)]).reshape(-1,1)\n",
    "\n",
    "# データセットを準備\n",
    "X = np.concatenate([X_fea0,X_fea1,X_fea2,X_fea3,X_fea4,X_fea5,X_fea6],axis=1)\n",
    "X_sklearn = np.concatenate([X_fea1,X_fea2,X_fea3,X_fea4,X_fea5,X_fea6],axis=1)\n",
    "\n",
    "y = np.array([2*(i) for i in range(200)])"
   ]
  },
  {
   "cell_type": "markdown",
   "id": "95e0bf63-c692-4b3c-bf55-786794371ae8",
   "metadata": {},
   "source": [
    "# 解析解"
   ]
  },
  {
   "cell_type": "code",
   "execution_count": 3,
   "id": "f1b58b71-71ff-4633-a585-d7ec1c5e3a73",
   "metadata": {},
   "outputs": [],
   "source": [
    "omega = (np.linalg.inv(X.T@X)@X.T@y).reshape(-1,1)"
   ]
  },
  {
   "cell_type": "code",
   "execution_count": 4,
   "id": "fe3e6f13-b195-48b4-8ad5-9556254687ed",
   "metadata": {},
   "outputs": [
    {
     "name": "stdout",
     "output_type": "stream",
     "text": [
      "切片及び係数は以下\n",
      "[[-1.02876419e-01]\n",
      " [-9.74466641e-03]\n",
      " [-1.20882932e-05]\n",
      " [ 9.44312260e-05]\n",
      " [ 2.50539902e-01]\n",
      " [ 2.79435962e-03]\n",
      " [ 1.19779271e-05]]\n"
     ]
    }
   ],
   "source": [
    "print('切片及び係数は以下')\n",
    "print(omega)"
   ]
  },
  {
   "cell_type": "markdown",
   "id": "ddeff7d6-0cb3-4d4e-af6e-54e4155a7b18",
   "metadata": {},
   "source": [
    "# Sklearn"
   ]
  },
  {
   "cell_type": "code",
   "execution_count": 5,
   "id": "a768b0ae-f449-488f-89fe-a6261a028850",
   "metadata": {},
   "outputs": [
    {
     "name": "stdout",
     "output_type": "stream",
     "text": [
      "切片及び係数は以下\n",
      "-0.10287641924429636\n",
      "[-9.74466641e-03 -1.20882932e-05  9.44312260e-05  2.50539902e-01\n",
      "  2.79435962e-03  1.19779271e-05]\n"
     ]
    }
   ],
   "source": [
    "from sklearn.linear_model import LinearRegression\n",
    "\n",
    "model = LinearRegression()\n",
    "\n",
    "result = model.fit(X_sklearn,y)\n",
    "\n",
    "print('切片及び係数は以下')\n",
    "print(result.intercept_)\n",
    "print(result.coef_)"
   ]
  },
  {
   "cell_type": "code",
   "execution_count": null,
   "id": "99848faa",
   "metadata": {},
   "outputs": [],
   "source": []
  }
 ],
 "metadata": {
  "kernelspec": {
   "display_name": "Python 3 (ipykernel)",
   "language": "python",
   "name": "python3"
  },
  "language_info": {
   "codemirror_mode": {
    "name": "ipython",
    "version": 3
   },
   "file_extension": ".py",
   "mimetype": "text/x-python",
   "name": "python",
   "nbconvert_exporter": "python",
   "pygments_lexer": "ipython3",
   "version": "3.8.12"
  }
 },
 "nbformat": 4,
 "nbformat_minor": 5
}
