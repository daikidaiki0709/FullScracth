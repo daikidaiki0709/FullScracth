{
 "cells": [
  {
   "cell_type": "code",
   "execution_count": 2,
   "id": "76416e63-7977-4417-99b1-74292846c051",
   "metadata": {},
   "outputs": [],
   "source": [
    "import numpy as np"
   ]
  },
  {
   "cell_type": "code",
   "execution_count": 3,
   "id": "09be6d6e-62cb-435d-aed5-2795105ddb8b",
   "metadata": {},
   "outputs": [
    {
     "name": "stdout",
     "output_type": "stream",
     "text": [
      "元のデータの特徴量数：7\n"
     ]
    }
   ],
   "source": [
    "X_fea0 = np.array([1 for i in range(200)]).reshape(-1,1)\n",
    "X_fea1 = np.array([1*i*np.random.normal(1,0.1) for i in range(200)]).reshape(-1,1)\n",
    "X_fea2 = np.array([2*i*np.random.normal(0,5) for i in range(200)]).reshape(-1,1)\n",
    "X_fea3 = np.array([3*i*np.random.normal(10,1) for i in range(200)]).reshape(-1,1)\n",
    "X_fea4 = np.array([4*i*np.random.normal(2,0.01) for i in range(200)]).reshape(-1,1)\n",
    "X_fea5 = np.array([5*i*np.random.normal(0,0.1) for i in range(200)]).reshape(-1,1)\n",
    "X_fea6 = np.array([6*i*np.random.normal(50,5) for i in range(200)]).reshape(-1,1)\n",
    "X_fea7 = np.array([7*i*np.random.normal(5,5) for i in range(200)]).reshape(-1,1)\n",
    "\n",
    "# データセットを準備\n",
    "X = np.concatenate([X_fea0,X_fea1,X_fea2,X_fea3,X_fea4,X_fea5,X_fea6,X_fea7],axis=1)\n",
    "X_sklearn = np.concatenate([X_fea1,X_fea2,X_fea3,X_fea4,X_fea5,X_fea6,X_fea7],axis=1)\n",
    "\n",
    "y = np.array([2*(i) for i in range(200)])\n",
    "\n",
    "print(f'元のデータの特徴量数：{X_sklearn.shape[1]}')"
   ]
  },
  {
   "cell_type": "markdown",
   "id": "e572258b-9209-4446-a296-1128f82b7bdb",
   "metadata": {},
   "source": [
    "### PCAの理論\n",
    "\n"
   ]
  },
  {
   "cell_type": "markdown",
   "id": "c7d41158-65d6-4c88-99dc-2ba0ed14d544",
   "metadata": {},
   "source": [
    "\n",
    "- PCAは元データの線形結合で得られる要約変数(=主成分, z)の分散を最大化する重みを算出する\n",
    "\n",
    "\n",
    "$$\n",
    "max \\ \\  \\sigma_z^{2}\\\\\n",
    "ただし、\\sigma_z^{2} = \\frac{1}{N} \\sum_i^{n}{z_i^{2}} \\ \\ (zは標準化済み)\n",
    "$$\n",
    "\n",
    "$$\n",
    "分散部分を式変形すると以下の形になる\\\\\n",
    "\\sigma_{z}^{2} = \\textbf{u}^{T} \\sigma^{2} \\textbf{u}\n",
    "$$\n",
    "\n",
    "$$\n",
    "ここで\\\\\n",
    "\\mathbf{\\sum} = \\sigma^{2},\\ \\ \\  \\mathbf{u^{T}u} = 1\\\\\n",
    "と制約を与え、ラグランジュの未定乗数法で最適解を求める\n",
    "$$\n",
    "\n",
    "$$\n",
    "\\mathbf{L} = \\mathbf{u^{T}\\sum u} - \\lambda(\\mathbf{uu^{T}} - 1)\\\\\n",
    "$$\n",
    "\n",
    "$$\n",
    "\\frac{\\partial{\\mathbf{L}}}{\\partial{\\mathbf{u}}} = (\\mathbf{\\sum} + \\mathbf{\\sum}^{T})\\mathbf{u} - 2\\lambda\\mathbf{u} = 0\n",
    "$$\n",
    "\n",
    "$$\n",
    "\\mathbf{\\sum}は対称行列なので最終的に以下にまとめられる\n",
    "$$\n",
    "\n",
    "$$\n",
    "\\mathbf{\\sum}\\mathbf{u} = \\lambda\\mathbf{u}\n",
    "$$\n",
    "\n",
    "$$\n",
    "上の式の形は、\\mathbf{A}\\mathbf{u} = \\lambda\\mathbf{u}であり、固有値問題と同じ形となる\n",
    "$$\n",
    "\n",
    "$$\n",
    "つまりPCAは、\\mathbf{\\sum} \\ (分散共分散行列)の固有値問題を解くことと同義である\\\\\n",
    "また\\mathbf{u}は固有ベクトルであり、各主成分のローディングである\\\\\n",
    "そして\\lambdaは各主成分の分散そのものであり、これを分散の総和で割ったものを寄与率と定義している\n",
    "$$\n",
    "\n"
   ]
  },
  {
   "cell_type": "code",
   "execution_count": 4,
   "id": "25bbfdc9-2e38-457f-8f73-dec9f8775d28",
   "metadata": {},
   "outputs": [],
   "source": [
    "# 1. データを標準化する\n",
    "\n",
    "from sklearn.preprocessing import StandardScaler\n",
    "scaler = StandardScaler()\n",
    "\n",
    "X_scale = scaler.fit_transform(X_sklearn)"
   ]
  },
  {
   "cell_type": "code",
   "execution_count": 5,
   "id": "56976e82-1dc2-41d4-a39f-2b31f57f1bef",
   "metadata": {},
   "outputs": [],
   "source": [
    "# 2. 線形結合データ(主成分)の分散を最大化する重みを決定\n",
    "# -> 線形結合で作成した軸に射影したデータの分散が最大となる重みを算出\n",
    "\n",
    "# 分散共分散行列における固有値問題に帰結\n",
    "VCM = (1/X_scale.shape[0])*(X_scale.T@X_scale)\n",
    "\n",
    "# 固有値問題を解く\n",
    "import numpy.linalg as LA\n",
    "temp = LA.eig(VCM)"
   ]
  },
  {
   "cell_type": "code",
   "execution_count": 6,
   "id": "5b5002db-53e5-4c77-985e-7caa057dc0c9",
   "metadata": {},
   "outputs": [],
   "source": [
    "koyuti = temp[0]\n",
    "koyuvector = temp[1]"
   ]
  },
  {
   "cell_type": "code",
   "execution_count": 7,
   "id": "2e485703-0582-4643-9d69-5eb3864e28c4",
   "metadata": {},
   "outputs": [
    {
     "name": "stdout",
     "output_type": "stream",
     "text": [
      "[0.61931277 0.16230742 0.12647368 0.07895635 0.00125031 0.00604229\n",
      " 0.00565718]\n"
     ]
    }
   ],
   "source": [
    "# 寄与率 (各主成分の分散(固有値)を全主成分の分散の総和で除した値)\n",
    "print(koyuti/koyuti.sum())"
   ]
  },
  {
   "cell_type": "code",
   "execution_count": 8,
   "id": "67f64bd7-5cef-4878-98cb-ccc9bed6bda1",
   "metadata": {},
   "outputs": [
    {
     "name": "stdout",
     "output_type": "stream",
     "text": [
      "[[ 0.46932642 -0.05896343  0.06941437  0.13601069  0.3714657   0.63866715\n",
      "  -0.45503436]\n",
      " [-0.11713737 -0.68533388  0.60521348 -0.38652358  0.00601296  0.0209294\n",
      "  -0.0209354 ]\n",
      " [ 0.46816756 -0.08679644  0.08339896  0.1057887   0.18267948  0.11028305\n",
      "   0.8423804 ]\n",
      " [ 0.47261574 -0.08794241  0.08170892  0.13476219 -0.85467788  0.02262643\n",
      "  -0.11435499]\n",
      " [-0.01554773 -0.67800497 -0.73216727  0.06123999  0.00106693  0.01566739\n",
      "   0.00129545]\n",
      " [ 0.46660867 -0.101213    0.07924899  0.14009802  0.31322875 -0.76063016\n",
      "  -0.26354115]\n",
      " [ 0.32480712  0.20405513 -0.27003194 -0.88281976 -0.00419748 -0.01371918\n",
      "  -0.01918417]]\n"
     ]
    }
   ],
   "source": [
    "print(koyuvector)"
   ]
  },
  {
   "cell_type": "code",
   "execution_count": null,
   "id": "d905cb71-d3c9-4a90-bfc2-ef3838ee693c",
   "metadata": {},
   "outputs": [],
   "source": []
  },
  {
   "cell_type": "code",
   "execution_count": 9,
   "id": "efee7ed2-7bb8-44d8-a63b-2726b9012ef5",
   "metadata": {},
   "outputs": [
    {
     "name": "stdout",
     "output_type": "stream",
     "text": [
      "各主成分のLoadingは以下\n",
      "[[ 0.46932642 -0.05896343 -0.06941437  0.13601069  0.63866715  0.45503436\n",
      "   0.3714657 ]\n",
      " [-0.11713737 -0.68533388 -0.60521348 -0.38652358  0.0209294   0.0209354\n",
      "   0.00601296]\n",
      " [ 0.46816756 -0.08679644 -0.08339896  0.1057887   0.11028305 -0.8423804\n",
      "   0.18267948]\n",
      " [ 0.47261574 -0.08794241 -0.08170892  0.13476219  0.02262643  0.11435499\n",
      "  -0.85467788]\n",
      " [-0.01554773 -0.67800497  0.73216727  0.06123999  0.01566739 -0.00129545\n",
      "   0.00106693]\n",
      " [ 0.46660867 -0.101213   -0.07924899  0.14009802 -0.76063016  0.26354115\n",
      "   0.31322875]\n",
      " [ 0.32480712  0.20405513  0.27003194 -0.88281976 -0.01371918  0.01918417\n",
      "  -0.00419748]]\n",
      "\n",
      "主成分ごとの寄与率\n",
      "[0.61931277 0.16230742 0.12647368 0.07895635 0.00604229 0.00565718\n",
      " 0.00125031]\n"
     ]
    }
   ],
   "source": [
    "# sklearnのPCAを実装\n",
    "\n",
    "from sklearn.decomposition import PCA\n",
    "\n",
    "pca = PCA()\n",
    "\n",
    "results = pca.fit(X_scale)\n",
    "\n",
    "print('各主成分のLoadingは以下')\n",
    "print(pca.components_.T)\n",
    "\n",
    "print()\n",
    "print('主成分ごとの寄与率')\n",
    "print(pca.explained_variance_ratio_)\n",
    "\n",
    "# sklearnのPCAはSVDで行っているため、結果が少し異なる"
   ]
  },
  {
   "cell_type": "code",
   "execution_count": null,
   "id": "0adcb116-5554-4c90-8ef6-9367b0e3336e",
   "metadata": {},
   "outputs": [],
   "source": []
  }
 ],
 "metadata": {
  "kernelspec": {
   "display_name": "Python 3",
   "language": "python",
   "name": "python3"
  },
  "language_info": {
   "codemirror_mode": {
    "name": "ipython",
    "version": 3
   },
   "file_extension": ".py",
   "mimetype": "text/x-python",
   "name": "python",
   "nbconvert_exporter": "python",
   "pygments_lexer": "ipython3",
   "version": "3.7.10"
  }
 },
 "nbformat": 4,
 "nbformat_minor": 5
}
