{
 "cells": [
  {
   "cell_type": "markdown",
   "id": "a0e630bf-b248-48c9-8c6a-c90358161ffd",
   "metadata": {},
   "source": [
    "# カーネル回帰 (フルスクラッチ)"
   ]
  },
  {
   "cell_type": "code",
   "execution_count": 160,
   "id": "dd026882-a99c-4089-a74d-24810a578c7e",
   "metadata": {},
   "outputs": [
    {
     "name": "stdout",
     "output_type": "stream",
     "text": [
      "[-0.18102085]\n"
     ]
    }
   ],
   "source": [
    "import numpy as np\n",
    "\n",
    "# データの準備\n",
    "X_fea0 = np.array([1 for i in range(200)]).reshape(-1,1)\n",
    "X_fea1 = np.array([1*i*np.random.normal(1,0.1) for i in range(200)]).reshape(-1,1)\n",
    "X_fea2 = np.array([2*i*np.random.normal(0,5) for i in range(200)]).reshape(-1,1)\n",
    "X_fea3 = np.array([3*i*np.random.normal(10,1) for i in range(200)]).reshape(-1,1)\n",
    "X_fea4 = np.array([4*i*np.random.normal(2,0.01) for i in range(200)]).reshape(-1,1)\n",
    "X_fea5 = np.array([5*i*np.random.normal(0,0.1) for i in range(200)]).reshape(-1,1)\n",
    "X_fea6 = np.array([6*i*np.random.normal(50,5) for i in range(200)]).reshape(-1,1)\n",
    "\n",
    "# sklearn用と2つに分ける (切片を入れるか否か)\n",
    "X = np.concatenate([X_fea0,X_fea1,X_fea2,X_fea3,X_fea4,X_fea5,X_fea6],axis=1)\n",
    "X_sklearn = np.concatenate([X_fea1,X_fea2,X_fea3,X_fea4,X_fea5,X_fea6],axis=1)\n",
    "y = np.array([2*(i) for i in range(200)]).reshape(-1,1)\n",
    "\n",
    "# 標準化\n",
    "from sklearn.preprocessing import StandardScaler\n",
    "scaler = StandardScaler()\n",
    "X = scaler.fit_transform(X)\n",
    "X_sklearn = scaler.fit_transform(X_sklearn)\n",
    "y = scaler.fit_transform(y)\n",
    "\n",
    "# カーネル関数およびグラム行列を定義\n",
    "def kernel_gauss(a,b,beta):\n",
    "    '''\n",
    "    beta：ハイパラ\n",
    "    a,b：ベクトル(1サンプル分)\n",
    "    '''\n",
    "    return np.exp( -beta*((a-b)**2).sum() )\n",
    "\n",
    "def GramMatrix(X):\n",
    "    '''\n",
    "    グラム行列の作成\n",
    "    ガウスカーネルを用いたグラム行列の作成\n",
    "    '''\n",
    "    GramMatrix_list = []\n",
    "    for i in range(X.shape[0]):\n",
    "        for j in range(X.shape[0]):\n",
    "            gauss_temp = kernel_gauss(X[i],X[j],beta=1)\n",
    "            GramMatrix_list.append(gauss_temp)\n",
    "            \n",
    "    GramMatrix_temp = np.array(GramMatrix_list).reshape(X.shape[0],X.shape[0])\n",
    "    \n",
    "    return GramMatrix_temp\n",
    "\n",
    "# グラム行列\n",
    "K = GramMatrix(X_sklearn)\n",
    "\n",
    "# 正則化項を設定\n",
    "penalty_i = 1\n",
    "penalty = penalty_i*np.eye(K.shape[0])\n",
    "# 重みを算出\n",
    "\n",
    "omega = np.linalg.inv(K.T@K + penalty) @ K.T @ y\n",
    "print(omega[0])"
   ]
  },
  {
   "cell_type": "markdown",
   "id": "9251f316-264c-4e3c-a3cb-ead927b2ec41",
   "metadata": {},
   "source": [
    "# カーネル回帰 (Scikit-Learn)"
   ]
  },
  {
   "cell_type": "code",
   "execution_count": 161,
   "id": "d1e5e5a2-8e6c-4726-a01f-08f134a116e5",
   "metadata": {},
   "outputs": [
    {
     "name": "stdout",
     "output_type": "stream",
     "text": [
      "Coefficients [-0.24070741]\n"
     ]
    }
   ],
   "source": [
    "from sklearn.kernel_ridge import KernelRidge\n",
    "\n",
    "ridge = KernelRidge(kernel='rbf',gamma=beta, alpha=penalty_i)\n",
    "model = ridge.fit(X_sklearn,y)\n",
    "\n",
    "print('Coefficients',model.dual_coef_[1])"
   ]
  },
  {
   "cell_type": "markdown",
   "id": "aa56c72e-eae6-427c-89a6-a97416613d89",
   "metadata": {},
   "source": [
    "# 微妙の結果が異なるので、コサイン類似度"
   ]
  },
  {
   "cell_type": "code",
   "execution_count": 181,
   "id": "2d4ca460-dd70-41b9-a550-4da02a5b0f7b",
   "metadata": {},
   "outputs": [
    {
     "name": "stdout",
     "output_type": "stream",
     "text": [
      "コサイン類似度：0.9695\n"
     ]
    }
   ],
   "source": [
    "# コサイン類似度\n",
    "\n",
    "L2_omega = np.sqrt( ((omega**2).sum()))\n",
    "L2_model = np.sqrt( ((model.dual_coef_)**2).sum())\n",
    "cos = omega.flatten() @ model.dual_coef_ / (L2_omega*L2_model)\n",
    "print(f'コサイン類似度：{cos[0]:.4f}')"
   ]
  },
  {
   "cell_type": "code",
   "execution_count": null,
   "id": "8c6709ff-e2db-47dd-895d-4d190e53050c",
   "metadata": {},
   "outputs": [],
   "source": []
  }
 ],
 "metadata": {
  "kernelspec": {
   "display_name": "Python 3",
   "language": "python",
   "name": "python3"
  },
  "language_info": {
   "codemirror_mode": {
    "name": "ipython",
    "version": 3
   },
   "file_extension": ".py",
   "mimetype": "text/x-python",
   "name": "python",
   "nbconvert_exporter": "python",
   "pygments_lexer": "ipython3",
   "version": "3.7.10"
  }
 },
 "nbformat": 4,
 "nbformat_minor": 5
}
