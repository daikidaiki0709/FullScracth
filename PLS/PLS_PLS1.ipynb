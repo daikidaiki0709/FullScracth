{
 "cells": [
  {
   "cell_type": "code",
   "execution_count": 1,
   "id": "ea081a40-4138-4c55-9744-b42c1f3ec44f",
   "metadata": {},
   "outputs": [],
   "source": [
    "import numpy as np\n",
    "import pandas as pd\n",
    "from sklearn.preprocessing import StandardScaler\n",
    "from sklearn.datasets import load_boston\n",
    "from sklearn.cross_decomposition import PLSRegression\n",
    "\n",
    "# データセットのload\n",
    "# 説明変数データを取得\n",
    "X = load_boston().data \n",
    "# 目的変数データを取得\n",
    "y = load_boston().target.reshape(506,1)\n",
    "\n",
    "# 変数を標準化\n",
    "scaler = StandardScaler()\n",
    "\n",
    "X = scaler.fit_transform(X)\n",
    "y = scaler.fit_transform(y)\n",
    "\n",
    "def PLS_original(X,y,component):\n",
    "    '''\n",
    "    返り値\n",
    "    Z：潜在変数\n",
    "    s：潜在変数内のLoading\n",
    "    t：潜在変数のLoading\n",
    "    y：予測値\n",
    "    \n",
    "    '''\n",
    "    # 第1潜在変数の重みを算出\n",
    "    w_1 = (X.T @ y) / (np.sqrt(sum((X.T @ y)**2)))\n",
    "\n",
    "    # 正規方程式を解き、各種ローディングを求める\n",
    "    '''\n",
    "    Z_1：第1潜在変数\n",
    "    s_1：説明変数を潜在変数で表す際に用いたLoading\n",
    "    t_1：目的変数を潜在変数で表す際に用いたLoading\n",
    "    '''\n",
    "    Z_1 = X @ w_1\n",
    "    s_1 = (X.T @ Z_1) / (Z_1.T @ Z_1) # 単回帰の係数算出と同じ原理\n",
    "    t_1 = (y.T @ Z_1) / (Z_1.T @ Z_1) # 単回帰の係数算出と同じ原理\n",
    "\n",
    "    # 第1潜在変数における変数更新\n",
    "    X_new = X - Z_1 @ s_1.T\n",
    "    y_new = y - Z_1 @ t_1\n",
    "    \n",
    "    if component == 1:\n",
    "        Z = Z_1\n",
    "        s = s_1\n",
    "        t = t_1\n",
    "        y_pred = Z @ t\n",
    "        return Z, s, t, y_pred\n",
    "        \n",
    "    ########## 成分数繰り返す ##########\n",
    "    # 空のDataFrameを用意\n",
    "    Z_df = pd.DataFrame(Z_1)\n",
    "    s_df = pd.DataFrame(s_1)\n",
    "    t_df = pd.DataFrame(t_1)\n",
    "    \n",
    "    for i in range(component - 1):\n",
    "        # 第i潜在変数の重みを算出\n",
    "        w_i = (X_new.T @ y_new) / (np.sqrt(sum((X_new.T @ y_new)**2)))\n",
    "        \n",
    "        # 正規方程式を解き、各種ローディングを求める\n",
    "        Z_i = X_new @ w_i\n",
    "        s_i = (X_new.T @ Z_i) / (Z_i.T @ Z_i) # 単回帰の係数算出と同じ原理\n",
    "        t_i = (y_new.T @ Z_i) / (Z_i.T @ Z_i) # 単回帰の係数算出と同じ原理\n",
    "        \n",
    "        # 第1潜在変数における変数更新\n",
    "        X_new = X_new - Z_i @ s_i.T\n",
    "        y_new = y_new - Z_i @ t_i\n",
    "        \n",
    "        # データを順番に格納\n",
    "        Z_df = pd.concat([Z_df,pd.DataFrame(Z_i)],axis=1)\n",
    "        s_df = pd.concat([s_df,pd.DataFrame(s_i)],axis=1)\n",
    "        t_df = pd.concat([t_df,pd.DataFrame(t_i)],axis=1)\n",
    "\n",
    "    # 最終的な予測値を算出\n",
    "    y_pred = Z_df.values @ t_df.T.values\n",
    "    \n",
    "    return Z_df, s_df, t_df, y_pred\n",
    "\n"
   ]
  },
  {
   "cell_type": "code",
   "execution_count": 2,
   "id": "c98834d9-6bb3-44c1-b075-77813876df24",
   "metadata": {},
   "outputs": [
    {
     "data": {
      "text/plain": [
       "-4.618527782440651e-13"
      ]
     },
     "execution_count": 2,
     "metadata": {},
     "output_type": "execute_result"
    }
   ],
   "source": [
    "PLS_original(X,y,component=10)[3].sum()"
   ]
  },
  {
   "cell_type": "code",
   "execution_count": 3,
   "id": "77f919ef-319a-4cdb-bf7e-2ea7f7e88fc6",
   "metadata": {},
   "outputs": [
    {
     "data": {
      "text/html": [
       "<div>\n",
       "<style scoped>\n",
       "    .dataframe tbody tr th:only-of-type {\n",
       "        vertical-align: middle;\n",
       "    }\n",
       "\n",
       "    .dataframe tbody tr th {\n",
       "        vertical-align: top;\n",
       "    }\n",
       "\n",
       "    .dataframe thead th {\n",
       "        text-align: right;\n",
       "    }\n",
       "</style>\n",
       "<table border=\"1\" class=\"dataframe\">\n",
       "  <thead>\n",
       "    <tr style=\"text-align: right;\">\n",
       "      <th></th>\n",
       "      <th>0</th>\n",
       "      <th>0</th>\n",
       "      <th>0</th>\n",
       "      <th>0</th>\n",
       "      <th>0</th>\n",
       "      <th>0</th>\n",
       "      <th>0</th>\n",
       "      <th>0</th>\n",
       "      <th>0</th>\n",
       "      <th>0</th>\n",
       "    </tr>\n",
       "  </thead>\n",
       "  <tbody>\n",
       "    <tr>\n",
       "      <th>0</th>\n",
       "      <td>0.304188</td>\n",
       "      <td>0.389431</td>\n",
       "      <td>0.158005</td>\n",
       "      <td>0.151064</td>\n",
       "      <td>0.085118</td>\n",
       "      <td>0.0721</td>\n",
       "      <td>0.060469</td>\n",
       "      <td>0.041069</td>\n",
       "      <td>0.007662</td>\n",
       "      <td>0.007468</td>\n",
       "    </tr>\n",
       "  </tbody>\n",
       "</table>\n",
       "</div>"
      ],
      "text/plain": [
       "          0         0         0         0         0       0         0  \\\n",
       "0  0.304188  0.389431  0.158005  0.151064  0.085118  0.0721  0.060469   \n",
       "\n",
       "          0         0         0  \n",
       "0  0.041069  0.007662  0.007468  "
      ]
     },
     "execution_count": 3,
     "metadata": {},
     "output_type": "execute_result"
    }
   ],
   "source": [
    "PLS_original(X, y, component=10)[2]"
   ]
  },
  {
   "cell_type": "code",
   "execution_count": 4,
   "id": "57ba4c1a-390c-418b-b43f-56d1cf7559fc",
   "metadata": {},
   "outputs": [
    {
     "name": "stdout",
     "output_type": "stream",
     "text": [
      "-2.2026824808563106e-13\n"
     ]
    }
   ],
   "source": [
    "# sklearnで実装\n",
    "plsr = PLSRegression(n_components=10)\n",
    "\n",
    "model = plsr.fit(X,y)\n",
    "model.y_loadings_\n",
    "print(model.predict(X).sum())"
   ]
  },
  {
   "cell_type": "code",
   "execution_count": 5,
   "id": "eafc51e8-146a-4322-a675-cd44ac4e6da6",
   "metadata": {},
   "outputs": [
    {
     "data": {
      "text/plain": [
       "array([[-0.30418772,  0.38943061, -0.1580054 , -0.15106413, -0.08511757,\n",
       "        -0.07210036,  0.06046899, -0.04106875,  0.00766153,  0.00746824]])"
      ]
     },
     "execution_count": 5,
     "metadata": {},
     "output_type": "execute_result"
    }
   ],
   "source": [
    "# t_1\n",
    "model.y_loadings_"
   ]
  },
  {
   "cell_type": "code",
   "execution_count": null,
   "id": "0bda66bc-9daa-4164-987b-c95110a1b22e",
   "metadata": {},
   "outputs": [],
   "source": []
  }
 ],
 "metadata": {
  "kernelspec": {
   "display_name": "Python 3 (ipykernel)",
   "language": "python",
   "name": "python3"
  },
  "language_info": {
   "codemirror_mode": {
    "name": "ipython",
    "version": 3
   },
   "file_extension": ".py",
   "mimetype": "text/x-python",
   "name": "python",
   "nbconvert_exporter": "python",
   "pygments_lexer": "ipython3",
   "version": "3.9.7"
  }
 },
 "nbformat": 4,
 "nbformat_minor": 5
}
